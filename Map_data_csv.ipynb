{
 "cells": [
  {
   "cell_type": "code",
   "execution_count": 1,
   "id": "0ad283d4-39f7-4894-9a90-2e7e384e7b86",
   "metadata": {},
   "outputs": [],
   "source": [
    "import pandas as pd"
   ]
  },
  {
   "cell_type": "code",
   "execution_count": 2,
   "id": "1c7ac544-408f-48b2-80f8-a9e2f1fb404f",
   "metadata": {},
   "outputs": [],
   "source": [
    "tabelog_data = pd.read_csv('tabelog_data_geocoded.csv')\n",
    "tripadvisor_data = pd.read_csv('trip_advisor_data_geocoded.csv')"
   ]
  },
  {
   "cell_type": "code",
   "execution_count": 3,
   "id": "0edfa1b5-ae2e-4020-b7b3-3b99e9f43db8",
   "metadata": {},
   "outputs": [],
   "source": [
    "# add a 'Platform' column to each dataset\n",
    "# this shows whether the data belongs to Tabelog or Tripadvisor\n",
    "tabelog_data['Platform'] = 'Tabelog'\n",
    "tripadvisor_data['Platform'] = 'Tripadvisor'"
   ]
  },
  {
   "cell_type": "code",
   "execution_count": 4,
   "id": "8641e4bb-37e1-4121-9f88-edf923ebfe1b",
   "metadata": {},
   "outputs": [],
   "source": [
    "# select only the relevant columns: name, lat, lon, platform\n",
    "tabelog_selected = tabelog_data[['Name', 'Latitude', 'Longitude', 'Platform']]\n",
    "tripadvisor_selected = tripadvisor_data[['Name', 'Latitude', 'Longitude', 'Platform']]"
   ]
  },
  {
   "cell_type": "code",
   "execution_count": 5,
   "id": "cd655214-f62d-4673-9ba5-cbcac0742ea3",
   "metadata": {},
   "outputs": [],
   "source": [
    "# combine the two datasets into one\n",
    "combined_data = pd.concat([tabelog_selected, tripadvisor_selected], ignore_index=True)"
   ]
  },
  {
   "cell_type": "code",
   "execution_count": 6,
   "id": "660a5be5-dd64-41f4-84dc-7dc5a970209a",
   "metadata": {},
   "outputs": [
    {
     "name": "stdout",
     "output_type": "stream",
     "text": [
      "Combined data contains 400 entries.\n",
      "                            Name   Latitude   Longitude Platform\n",
      "0              Shimbashi Hoshino  35.662458  139.755308  Tabelog\n",
      "1  Nihonbashi Kakigaracho Sugita  35.681852  139.784998  Tabelog\n",
      "2                            aca  35.686864  139.772481  Tabelog\n",
      "3           Higashiazabu Amamoto  35.657349  139.743468  Tabelog\n",
      "4                      Matsukawa  35.667462  139.742390  Tabelog\n"
     ]
    }
   ],
   "source": [
    "# verify the combined data\n",
    "print(f\"Combined data contains {len(combined_data)} entries.\")\n",
    "print(combined_data.head())"
   ]
  },
  {
   "cell_type": "code",
   "execution_count": 8,
   "id": "56c04130-1bf1-4563-9560-92ce9e09c774",
   "metadata": {},
   "outputs": [
    {
     "name": "stdout",
     "output_type": "stream",
     "text": [
      "Combined data has been saved to combined_restaurant_locations.csv.\n"
     ]
    }
   ],
   "source": [
    "# export the combined data to a new CSV file\n",
    "output_csv = 'combined_restaurant_locations.csv'\n",
    "combined_data.to_csv(output_csv, index=False)\n",
    "\n",
    "print(f\"Combined data has been saved to {output_csv}.\")"
   ]
  },
  {
   "cell_type": "code",
   "execution_count": 9,
   "id": "9b5bca2c-4802-4761-80c7-625af5d1cba1",
   "metadata": {},
   "outputs": [
    {
     "name": "stdout",
     "output_type": "stream",
     "text": [
      "Found 4 duplicate entries:\n",
      "                Name   Latitude   Longitude     Platform\n",
      "19   Sushi Takamitsu  35.647404  139.695155      Tabelog\n",
      "120  Sushi Takamitsu  35.656124  139.777213      Tabelog\n",
      "298              NaN        NaN         NaN  Tripadvisor\n",
      "312              NaN        NaN         NaN  Tripadvisor\n"
     ]
    }
   ],
   "source": [
    "# checking for any duplicate restaurants: any common ground?\n",
    "duplicate_names = combined_data[combined_data.duplicated(subset='Name', keep=False)]\n",
    "\n",
    "# display the duplicates\n",
    "if not duplicate_names.empty:\n",
    "    print(f\"Found {len(duplicate_names)} duplicate entries:\")\n",
    "    print(duplicate_names.sort_values(by='Name'))  # Sort by name for clarity\n",
    "else:\n",
    "    print(\"No duplicate restaurant names found.\")"
   ]
  },
  {
   "cell_type": "code",
   "execution_count": null,
   "id": "3a28b3c5-9049-4091-bd16-d1b749e08bb5",
   "metadata": {},
   "outputs": [],
   "source": []
  }
 ],
 "metadata": {
  "kernelspec": {
   "display_name": "Python 3 (ipykernel)",
   "language": "python",
   "name": "python3"
  },
  "language_info": {
   "codemirror_mode": {
    "name": "ipython",
    "version": 3
   },
   "file_extension": ".py",
   "mimetype": "text/x-python",
   "name": "python",
   "nbconvert_exporter": "python",
   "pygments_lexer": "ipython3",
   "version": "3.13.3"
  }
 },
 "nbformat": 4,
 "nbformat_minor": 5
}
